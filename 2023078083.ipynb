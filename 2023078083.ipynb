{
  "nbformat": 4,
  "nbformat_minor": 0,
  "metadata": {
    "colab": {
      "provenance": [],
      "authorship_tag": "ABX9TyPc2d9fxnNAqhVIse8lKMTS",
      "include_colab_link": true
    },
    "kernelspec": {
      "name": "python3",
      "display_name": "Python 3"
    },
    "language_info": {
      "name": "python"
    }
  },
  "cells": [
    {
      "cell_type": "markdown",
      "metadata": {
        "id": "view-in-github",
        "colab_type": "text"
      },
      "source": [
        "<a href=\"https://colab.research.google.com/github/yejxjj/python/blob/main/2023078083.ipynb\" target=\"_parent\"><img src=\"https://colab.research.google.com/assets/colab-badge.svg\" alt=\"Open In Colab\"/></a>"
      ]
    },
    {
      "cell_type": "code",
      "execution_count": 1,
      "metadata": {
        "id": "u8XmCEqnHhuo",
        "colab": {
          "base_uri": "https://localhost:8080/"
        },
        "outputId": "325d107a-c5ff-40ce-f74a-934a51fd42c9"
      },
      "outputs": [
        {
          "output_type": "stream",
          "name": "stdout",
          "text": [
            "학번, 이름, 영어, C-언어, 파이썬 점수를 입력하세요 (공백으로 구분): 1 djkd 49 50 69\n",
            "학번, 이름, 영어, C-언어, 파이썬 점수를 입력하세요 (공백으로 구분): 2 dj 48 69 59\n",
            "학번, 이름, 영어, C-언어, 파이썬 점수를 입력하세요 (공백으로 구분): 3 djkd 68 58 49\n",
            "학번, 이름, 영어, C-언어, 파이썬 점수를 입력하세요 (공백으로 구분): 5 yyy 89 89 59\n",
            "학번, 이름, 영어, C-언어, 파이썬 점수를 입력하세요 (공백으로 구분): 6 ccc 89 90 90\n",
            "\n",
            "성적 관리 프로그램\n",
            "================================================================================\n",
            "학번\t\t이름\t영어\tC-언어\t파이썬\t총점\t평균\t학점\t등수\n",
            "================================================================================\n",
            "6\tccc\t89\t90\t90\t269\t89.67\tB\t1\n",
            "5\tyyy\t89\t89\t59\t237\t79.0\tC\t2\n",
            "2\tdj\t48\t69\t59\t176\t58.67\tF\t3\n",
            "3\tdjkd\t68\t58\t49\t175\t58.33\tF\t4\n",
            "1\tdjkd\t49\t50\t69\t168\t56.0\tF\t5\n"
          ]
        }
      ],
      "source": [
        "from typing import List, Tuple\n",
        "\n",
        "st_info: List[Tuple[str, str, int, int, int, int, float, str, int]] = []\n",
        "\n",
        "# 학생 정보 입력 함수\n",
        "def get_info():\n",
        "    id, name, eng, c, python = input(\"학번, 이름, 영어, C-언어, 파이썬 점수를 입력하세요 (공백으로 구분): \").split()\n",
        "    eng, c, python = int(eng), int(c), int(python)\n",
        "    total = get_total(eng, c, python)\n",
        "    avg = get_avg(total)\n",
        "    grade = get_grade(avg)\n",
        "    st_info.append((id, name, eng, c, python, total, avg, grade, 0))\n",
        "\n",
        "# 총점 계산 함수\n",
        "def get_total(eng, c, python):\n",
        "    return eng + c + python\n",
        "\n",
        "# 평균 계산 함수\n",
        "def get_avg(total):\n",
        "    return round(total / 3, 2)\n",
        "\n",
        "# 학점 계산 함수\n",
        "def get_grade(avg):\n",
        "    if avg >= 90:\n",
        "        return 'A'\n",
        "    elif avg >= 80:\n",
        "        return 'B'\n",
        "    elif avg >= 70:\n",
        "        return 'C'\n",
        "    elif avg >= 60:\n",
        "        return 'D'\n",
        "    else:\n",
        "        return 'F'\n",
        "\n",
        "# 등수 계산 함수\n",
        "def calculate_ranks():\n",
        "    global st_info\n",
        "    st_info.sort(key=lambda x: x[5], reverse=True)\n",
        "    for rank, student in enumerate(st_info, start=1):\n",
        "        st_info[rank - 1] = student[:8] + (rank,)\n",
        "\n",
        "# 성적 출력 함수\n",
        "def print_scores():\n",
        "    print(\"\\n성적 관리 프로그램\")\n",
        "    print(\"=\" * 80)\n",
        "    print(\"학번\\t\\t이름\\t영어\\tC-언어\\t파이썬\\t총점\\t평균\\t학점\\t등수\")\n",
        "    print(\"=\" * 80)\n",
        "    for student in st_info:\n",
        "        print(f\"{student[0]}\\t{student[1]}\\t{student[2]}\\t{student[3]}\\t{student[4]}\\t\"\n",
        "              f\"{student[5]}\\t{student[6]}\\t{student[7]}\\t{student[8]}\")\n",
        "\n",
        "# 삽입 함수\n",
        "def insert_info():\n",
        "    get_info()\n",
        "    calculate_ranks()\n",
        "\n",
        "# 학생 정보 삭제 함수\n",
        "#이건 gpt도움 받음\n",
        "def delete_info(student_id):\n",
        "    global st_info\n",
        "    st_info = [student for student in st_info if student[0] != student_id]\n",
        "    calculate_ranks()\n",
        "\n",
        "# (학번)탐색함수\n",
        "def search_by_id(student_id):\n",
        "    return next((student for student in st_info if student[0] == student_id), None)\n",
        "\n",
        "# (이름)탐색함수\n",
        "def search_by_name(name):\n",
        "    return [student for student in st_info if student[1] == name]\n",
        "\n",
        "# 총점 정렬 함수\n",
        "def sort_by_total():\n",
        "    global st_info\n",
        "    st_info.sort(key=lambda x: x[5], reverse=True)\n",
        "\n",
        "# 80점 이상 학생 수 카운트 함수\n",
        "def count_above_80():\n",
        "    return len([student for student in st_info if student[6] >= 80])\n",
        "\n",
        "# 초기 데이터 입력\n",
        "for i in range(5):\n",
        "    get_info()\n",
        "\n",
        "calculate_ranks()\n",
        "print_scores()\n"
      ]
    },
    {
      "cell_type": "code",
      "source": [
        "search_by_name() =ccc\n"
      ],
      "metadata": {
        "colab": {
          "base_uri": "https://localhost:8080/",
          "height": 108
        },
        "id": "n2FMdJz7KGvY",
        "outputId": "7082d55d-f3df-49b7-e22d-0a3267332af7"
      },
      "execution_count": 7,
      "outputs": [
        {
          "output_type": "error",
          "ename": "SyntaxError",
          "evalue": "cannot assign to function call here. Maybe you meant '==' instead of '='? (<ipython-input-7-bc0411c3b678>, line 1)",
          "traceback": [
            "\u001b[0;36m  File \u001b[0;32m\"<ipython-input-7-bc0411c3b678>\"\u001b[0;36m, line \u001b[0;32m1\u001b[0m\n\u001b[0;31m    search_by_name() =ccc\u001b[0m\n\u001b[0m    ^\u001b[0m\n\u001b[0;31mSyntaxError\u001b[0m\u001b[0;31m:\u001b[0m cannot assign to function call here. Maybe you meant '==' instead of '='?\n"
          ]
        }
      ]
    }
  ]
}