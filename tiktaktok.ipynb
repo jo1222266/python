{
  "nbformat": 4,
  "nbformat_minor": 0,
  "metadata": {
    "colab": {
      "provenance": [],
      "authorship_tag": "ABX9TyMcVn/XauMjiV12x8jyBxBM",
      "include_colab_link": true
    },
    "kernelspec": {
      "name": "python3",
      "display_name": "Python 3"
    },
    "language_info": {
      "name": "python"
    }
  },
  "cells": [
    {
      "cell_type": "markdown",
      "metadata": {
        "id": "view-in-github",
        "colab_type": "text"
      },
      "source": [
        "<a href=\"https://colab.research.google.com/github/yejxjj/python/blob/main/tiktaktok.ipynb\" target=\"_parent\"><img src=\"https://colab.research.google.com/assets/colab-badge.svg\" alt=\"Open In Colab\"/></a>"
      ]
    },
    {
      "cell_type": "code",
      "execution_count": 6,
      "metadata": {
        "colab": {
          "base_uri": "https://localhost:8080/"
        },
        "id": "dDrwAIiFSWjP",
        "outputId": "11d70b60-1a68-4175-9b47-0c5a1343014b"
      },
      "outputs": [
        {
          "output_type": "stream",
          "name": "stdout",
          "text": [
            "\n",
            "  0   1   2\n",
            "     |   |  \n",
            "---|---|---\n",
            "     |   |  \n",
            "---|---|---\n",
            "     |   |  \n",
            "x좌표 y좌표 입력 (공백으로 구분): 1 2\n",
            "\n",
            "  0   1   2\n",
            "     |   | O\n",
            "---|---|---\n",
            "     |   | X\n",
            "---|---|---\n",
            "     |   |  \n",
            "x좌표 y좌표 입력 (공백으로 구분): 0 2\n",
            "이미 놓인 자리!!  다시 입력하세요.\n",
            "x좌표 y좌표 입력 (공백으로 구분): 0 0\n",
            "\n",
            "  0   1   2\n",
            "   X |   | O\n",
            "---|---|---\n",
            "     |   | X\n",
            "---|---|---\n",
            "     | O |  \n",
            "x좌표 y좌표 입력 (공백으로 구분): 1 0\n",
            "\n",
            "  0   1   2\n",
            "   X |   | O\n",
            "---|---|---\n",
            "   X |   | X\n",
            "---|---|---\n",
            "     | O | O\n",
            "x좌표 y좌표 입력 (공백으로 구분): 2  1\n",
            "이미 놓인 자리!!  다시 입력하세요.\n",
            "x좌표 y좌표 입력 (공백으로 구분): 0 2\n",
            "이미 놓인 자리!!  다시 입력하세요.\n",
            "x좌표 y좌표 입력 (공백으로 구분): 0 1\n",
            "\n",
            "  0   1   2\n",
            "   X | X | O\n",
            "---|---|---\n",
            "   X |   | X\n",
            "---|---|---\n",
            "   O | O | O\n",
            "컴퓨터 승리!\n"
          ]
        }
      ],
      "source": [
        "import random\n",
        "\n",
        "board = [[' ' for _ in range(3)] for _ in range(3)]\n",
        "\n",
        "def make_board():\n",
        "    for r in range(3):\n",
        "        print(\"   \" + board[r][0] + \" | \" + board[r][1] + \" | \" + board[r][2])\n",
        "        if r != 2:\n",
        "            print(\"---|---|---\")\n",
        "\n",
        "def display_board():\n",
        "    print(\"\\n  0   1   2\")\n",
        "    make_board()\n",
        "\n",
        "def user_input():\n",
        "    while True:\n",
        "        try:\n",
        "            x, y = map(int, input(\"x좌표 y좌표 입력 (공백으로 구분): \").split())\n",
        "            if board[x][y] == ' ':\n",
        "                board[x][y] = 'X'\n",
        "                break\n",
        "            else:\n",
        "                print(\"이미 놓인 자리!!  다시 입력하세요.\")\n",
        "        except (ValueError, IndexError):\n",
        "            print(\"잘못된 입력!!. 0~2 사이의 숫자로 입력하세요.\")\n",
        "\n",
        "def computer_input():\n",
        "    while True:\n",
        "        x, y = random.randint(0, 2), random.randint(0, 2)\n",
        "        if board[x][y] == ' ':\n",
        "            board[x][y] = 'O'\n",
        "            break\n",
        "\n",
        "#checkwin과 roof는 지피티로부터 모르는 부분 도움 받음\n",
        "def check_win():\n",
        "    win_cases = [\n",
        "        [(0, 0), (0, 1), (0, 2)], [(1, 0), (1, 1), (1, 2)], [(2, 0), (2, 1), (2, 2)],  # 가로\n",
        "        [(0, 0), (1, 0), (2, 0)], [(0, 1), (1, 1), (2, 1)], [(0, 2), (1, 2), (2, 2)],  # 세로\n",
        "        [(0, 0), (1, 1), (2, 2)], [(0, 2), (1, 1), (2, 0)]  # 대각선\n",
        "    ]\n",
        "    for case in win_cases:\n",
        "        values = [board[x][y] for x, y in case]\n",
        "        if values == ['X', 'X', 'X']:\n",
        "            return \"플레이어 승리!\"\n",
        "        elif values == ['O', 'O', 'O']:\n",
        "            return \"컴퓨터 승리!\"\n",
        "    return None\n",
        "\n",
        "def roof():\n",
        "    for _ in range(9):\n",
        "        display_board()\n",
        "        user_input()\n",
        "        if (result := check_win()):\n",
        "            display_board()\n",
        "            print(result)\n",
        "            return\n",
        "        if all(cell != ' ' for row in board for cell in row):\n",
        "            break\n",
        "        computer_input()\n",
        "        if (result := check_win()):\n",
        "            display_board()\n",
        "            print(result)\n",
        "            return\n",
        "    print(\"무승부!\")\n",
        "\n",
        "roof()\n"
      ]
    }
  ]
}